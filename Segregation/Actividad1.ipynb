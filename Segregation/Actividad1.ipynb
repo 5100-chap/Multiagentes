{
 "cells": [
  {
   "cell_type": "code",
   "execution_count": null,
   "metadata": {},
   "outputs": [],
   "source": [
    "%pip install agentpy\n",
    "%pip install -U matplotlib\n",
    "%pip install seaborn\n",
    "%pip install IPython"
   ]
  },
  {
   "cell_type": "code",
   "execution_count": null,
   "metadata": {},
   "outputs": [],
   "source": [
    "# Model design\n",
    "import agentpy as ap\n",
    "\n",
    "# Visualization\n",
    "import matplotlib.pyplot as plt\n",
    "import seaborn as sns\n",
    "import IPython \n",
    "import pandas\n",
    "import numpy as np\n",
    "\n",
    "\n",
    "class Person(ap.Agent):\n",
    "\n",
    "    def setup(self):\n",
    "        \"\"\" Initiate agent attributes. \"\"\"\n",
    "        self.grid = self.model.grid\n",
    "        self.random = self.model.random\n",
    "        self.group = self.random.choice(range(self.p.n_groups))\n",
    "        self.share_similar = 0\n",
    "        self.happy = False\n",
    "\n",
    "    def update_happiness(self):\n",
    "        \"\"\" Be happy if rate of similar neighbors is high enough. \"\"\"\n",
    "        neighbors = self.grid.neighbors(self)\n",
    "        similar = len([n for n in neighbors if n.group == self.group])\n",
    "        ln = len(neighbors)\n",
    "        self.share_similar = similar / ln if ln > 0 else 0\n",
    "        self.happy = self.share_similar >= self.p.want_similar\n",
    "\n",
    "    def find_new_home(self):\n",
    "        \"\"\" Move to random free spot and update free spots. \"\"\"\n",
    "        new_spot = self.random.choice(self.model.grid.empty)\n",
    "        self.grid.move_to(self, new_spot)\n",
    "\n",
    "class SegregationModel(ap.Model):\n",
    "\n",
    "    def setup(self):\n",
    "\n",
    "        # Parameters\n",
    "        s = self.p.size\n",
    "        n = self.n = int(self.p.density * (s ** 2))\n",
    "\n",
    "        # Create grid and agents\n",
    "        self.grid = ap.Grid(self, (s, s), track_empty=True)\n",
    "        self.agents = ap.AgentList(self, n, Person)\n",
    "        self.grid.add_agents(self.agents, random=True, empty=True)\n",
    "\n",
    "    def update(self):\n",
    "        # Update list of unhappy people\n",
    "        self.agents.update_happiness()\n",
    "        self.unhappy = self.agents.select(self.agents.happy == False)\n",
    "\n",
    "        # Stop simulation if all are happy\n",
    "        if len(self.unhappy) == 0:\n",
    "            self.stop()\n",
    "\n",
    "    def step(self):\n",
    "        # Move unhappy people to new location\n",
    "        self.unhappy.find_new_home()\n",
    "\n",
    "    def get_segregation(self):\n",
    "        # Calculate average percentage of similar neighbors\n",
    "        return round(sum(self.agents.share_similar) / self.n, 2)\n",
    "\n",
    "    def end(self):\n",
    "        # Measure segregation at the end of the simulation\n",
    "        self.report('segregation', self.get_segregation())\n",
    "\n",
    "parameters = {\n",
    "    'want_similar': 0.3, # For agents to be happy\n",
    "    'n_groups': 2, # Number of groups\n",
    "    'density': 0.95, # Density of population\n",
    "    'size': 50, # Height and length of the grid\n",
    "    'steps': 50  # Maximum number of steps\n",
    "    }\n",
    "\n",
    "\n",
    "def animation_plot(model, ax):\n",
    "    group_grid = model.grid.attr_grid('group')\n",
    "    ap.gridplot(group_grid, cmap='Accent', ax=ax)\n",
    "    ax.set_title(f\"Segregation model \\n Time-step: {model.t}, \"\n",
    "                 f\"Segregation: {model.get_segregation()}\")"
   ]
  },
  {
   "cell_type": "code",
   "execution_count": null,
   "metadata": {},
   "outputs": [],
   "source": [
    "fig, ax = plt.subplots()\n",
    "model = SegregationModel(parameters)\n",
    "animation = ap.animate(model, fig, ax, animation_plot)"
   ]
  },
  {
   "cell_type": "code",
   "execution_count": null,
   "metadata": {},
   "outputs": [],
   "source": [
    "IPython.display.HTML(animation.to_jshtml())"
   ]
  }
 ],
 "metadata": {
  "kernelspec": {
   "display_name": "Python 3.10.4 64-bit",
   "language": "python",
   "name": "python3"
  },
  "language_info": {
   "name": "python",
   "version": "3.10.4"
  },
  "orig_nbformat": 4,
  "vscode": {
   "interpreter": {
    "hash": "26de051ba29f2982a8de78e945f0abaf191376122a1563185a90213a26c5da77"
   }
  }
 },
 "nbformat": 4,
 "nbformat_minor": 2
}
